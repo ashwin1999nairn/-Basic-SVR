{
 "cells": [
  {
   "cell_type": "code",
   "execution_count": 1,
   "id": "229cc002",
   "metadata": {},
   "outputs": [],
   "source": [
    "import pandas as pd\n",
    "import numpy as np\n",
    "import matplotlib.pyplot as plt\n",
    "import seaborn as sns\n",
    "import re\n",
    "from sklearn.metrics import r2_score,mean_absolute_error,mean_squared_error\n",
    "from sklearn.svm import SVR\n",
    "from sklearn.model_selection import train_test_split"
   ]
  },
  {
   "cell_type": "markdown",
   "id": "8f685af9",
   "metadata": {},
   "source": [
    "## Problem Statement\n",
    "In this data we have one independent feature (Hours) and one dependent variable (marks). we have to train SVR model to understand the relationship between hours and marks to predict student's marks based on their number of hours dedicated to studies"
   ]
  },
  {
   "cell_type": "code",
   "execution_count": 2,
   "id": "b4d841af",
   "metadata": {},
   "outputs": [
    {
     "data": {
      "text/html": [
       "<div>\n",
       "<style scoped>\n",
       "    .dataframe tbody tr th:only-of-type {\n",
       "        vertical-align: middle;\n",
       "    }\n",
       "\n",
       "    .dataframe tbody tr th {\n",
       "        vertical-align: top;\n",
       "    }\n",
       "\n",
       "    .dataframe thead th {\n",
       "        text-align: right;\n",
       "    }\n",
       "</style>\n",
       "<table border=\"1\" class=\"dataframe\">\n",
       "  <thead>\n",
       "    <tr style=\"text-align: right;\">\n",
       "      <th></th>\n",
       "      <th>Hours of Study</th>\n",
       "      <th>Marks</th>\n",
       "    </tr>\n",
       "  </thead>\n",
       "  <tbody>\n",
       "    <tr>\n",
       "      <th>0</th>\n",
       "      <td>32.502345</td>\n",
       "      <td>31.707006</td>\n",
       "    </tr>\n",
       "    <tr>\n",
       "      <th>1</th>\n",
       "      <td>53.426804</td>\n",
       "      <td>68.777596</td>\n",
       "    </tr>\n",
       "    <tr>\n",
       "      <th>2</th>\n",
       "      <td>61.530358</td>\n",
       "      <td>62.562382</td>\n",
       "    </tr>\n",
       "    <tr>\n",
       "      <th>3</th>\n",
       "      <td>47.475640</td>\n",
       "      <td>71.546632</td>\n",
       "    </tr>\n",
       "    <tr>\n",
       "      <th>4</th>\n",
       "      <td>59.813208</td>\n",
       "      <td>87.230925</td>\n",
       "    </tr>\n",
       "    <tr>\n",
       "      <th>...</th>\n",
       "      <td>...</td>\n",
       "      <td>...</td>\n",
       "    </tr>\n",
       "    <tr>\n",
       "      <th>95</th>\n",
       "      <td>50.030174</td>\n",
       "      <td>81.536991</td>\n",
       "    </tr>\n",
       "    <tr>\n",
       "      <th>96</th>\n",
       "      <td>49.239765</td>\n",
       "      <td>72.111832</td>\n",
       "    </tr>\n",
       "    <tr>\n",
       "      <th>97</th>\n",
       "      <td>50.039576</td>\n",
       "      <td>85.232007</td>\n",
       "    </tr>\n",
       "    <tr>\n",
       "      <th>98</th>\n",
       "      <td>48.149859</td>\n",
       "      <td>66.224958</td>\n",
       "    </tr>\n",
       "    <tr>\n",
       "      <th>99</th>\n",
       "      <td>25.128485</td>\n",
       "      <td>53.454394</td>\n",
       "    </tr>\n",
       "  </tbody>\n",
       "</table>\n",
       "<p>100 rows × 2 columns</p>\n",
       "</div>"
      ],
      "text/plain": [
       "    Hours of Study      Marks\n",
       "0        32.502345  31.707006\n",
       "1        53.426804  68.777596\n",
       "2        61.530358  62.562382\n",
       "3        47.475640  71.546632\n",
       "4        59.813208  87.230925\n",
       "..             ...        ...\n",
       "95       50.030174  81.536991\n",
       "96       49.239765  72.111832\n",
       "97       50.039576  85.232007\n",
       "98       48.149859  66.224958\n",
       "99       25.128485  53.454394\n",
       "\n",
       "[100 rows x 2 columns]"
      ]
     },
     "execution_count": 2,
     "metadata": {},
     "output_type": "execute_result"
    }
   ],
   "source": [
    "df = pd.read_csv('https://raw.githubusercontent.com/mk-gurucharan/Regression/master/SampleData.csv')\n",
    "df"
   ]
  },
  {
   "cell_type": "markdown",
   "id": "cf6c4080",
   "metadata": {},
   "source": [
    "## EDA"
   ]
  },
  {
   "cell_type": "code",
   "execution_count": 3,
   "id": "a06b577f",
   "metadata": {},
   "outputs": [
    {
     "data": {
      "text/html": [
       "<div>\n",
       "<style scoped>\n",
       "    .dataframe tbody tr th:only-of-type {\n",
       "        vertical-align: middle;\n",
       "    }\n",
       "\n",
       "    .dataframe tbody tr th {\n",
       "        vertical-align: top;\n",
       "    }\n",
       "\n",
       "    .dataframe thead th {\n",
       "        text-align: right;\n",
       "    }\n",
       "</style>\n",
       "<table border=\"1\" class=\"dataframe\">\n",
       "  <thead>\n",
       "    <tr style=\"text-align: right;\">\n",
       "      <th></th>\n",
       "      <th>Hours of Study</th>\n",
       "      <th>Marks</th>\n",
       "    </tr>\n",
       "  </thead>\n",
       "  <tbody>\n",
       "    <tr>\n",
       "      <th>0</th>\n",
       "      <td>32.502345</td>\n",
       "      <td>31.707006</td>\n",
       "    </tr>\n",
       "    <tr>\n",
       "      <th>1</th>\n",
       "      <td>53.426804</td>\n",
       "      <td>68.777596</td>\n",
       "    </tr>\n",
       "    <tr>\n",
       "      <th>2</th>\n",
       "      <td>61.530358</td>\n",
       "      <td>62.562382</td>\n",
       "    </tr>\n",
       "    <tr>\n",
       "      <th>3</th>\n",
       "      <td>47.475640</td>\n",
       "      <td>71.546632</td>\n",
       "    </tr>\n",
       "    <tr>\n",
       "      <th>4</th>\n",
       "      <td>59.813208</td>\n",
       "      <td>87.230925</td>\n",
       "    </tr>\n",
       "  </tbody>\n",
       "</table>\n",
       "</div>"
      ],
      "text/plain": [
       "   Hours of Study      Marks\n",
       "0       32.502345  31.707006\n",
       "1       53.426804  68.777596\n",
       "2       61.530358  62.562382\n",
       "3       47.475640  71.546632\n",
       "4       59.813208  87.230925"
      ]
     },
     "execution_count": 3,
     "metadata": {},
     "output_type": "execute_result"
    }
   ],
   "source": [
    "df.head()"
   ]
  },
  {
   "cell_type": "code",
   "execution_count": 4,
   "id": "9993f33f",
   "metadata": {},
   "outputs": [
    {
     "data": {
      "text/html": [
       "<div>\n",
       "<style scoped>\n",
       "    .dataframe tbody tr th:only-of-type {\n",
       "        vertical-align: middle;\n",
       "    }\n",
       "\n",
       "    .dataframe tbody tr th {\n",
       "        vertical-align: top;\n",
       "    }\n",
       "\n",
       "    .dataframe thead th {\n",
       "        text-align: right;\n",
       "    }\n",
       "</style>\n",
       "<table border=\"1\" class=\"dataframe\">\n",
       "  <thead>\n",
       "    <tr style=\"text-align: right;\">\n",
       "      <th></th>\n",
       "      <th>Hours of Study</th>\n",
       "      <th>Marks</th>\n",
       "    </tr>\n",
       "  </thead>\n",
       "  <tbody>\n",
       "    <tr>\n",
       "      <th>count</th>\n",
       "      <td>100.000000</td>\n",
       "      <td>100.000000</td>\n",
       "    </tr>\n",
       "    <tr>\n",
       "      <th>mean</th>\n",
       "      <td>48.958341</td>\n",
       "      <td>72.035051</td>\n",
       "    </tr>\n",
       "    <tr>\n",
       "      <th>std</th>\n",
       "      <td>9.746379</td>\n",
       "      <td>15.200087</td>\n",
       "    </tr>\n",
       "    <tr>\n",
       "      <th>min</th>\n",
       "      <td>25.128485</td>\n",
       "      <td>31.707006</td>\n",
       "    </tr>\n",
       "    <tr>\n",
       "      <th>25%</th>\n",
       "      <td>41.526164</td>\n",
       "      <td>60.788586</td>\n",
       "    </tr>\n",
       "    <tr>\n",
       "      <th>50%</th>\n",
       "      <td>49.634970</td>\n",
       "      <td>72.179542</td>\n",
       "    </tr>\n",
       "    <tr>\n",
       "      <th>75%</th>\n",
       "      <td>56.762631</td>\n",
       "      <td>83.215080</td>\n",
       "    </tr>\n",
       "    <tr>\n",
       "      <th>max</th>\n",
       "      <td>70.346076</td>\n",
       "      <td>99.051415</td>\n",
       "    </tr>\n",
       "  </tbody>\n",
       "</table>\n",
       "</div>"
      ],
      "text/plain": [
       "       Hours of Study       Marks\n",
       "count      100.000000  100.000000\n",
       "mean        48.958341   72.035051\n",
       "std          9.746379   15.200087\n",
       "min         25.128485   31.707006\n",
       "25%         41.526164   60.788586\n",
       "50%         49.634970   72.179542\n",
       "75%         56.762631   83.215080\n",
       "max         70.346076   99.051415"
      ]
     },
     "execution_count": 4,
     "metadata": {},
     "output_type": "execute_result"
    }
   ],
   "source": [
    "df.describe()"
   ]
  },
  {
   "cell_type": "code",
   "execution_count": 5,
   "id": "8e9d13ac",
   "metadata": {},
   "outputs": [
    {
     "name": "stdout",
     "output_type": "stream",
     "text": [
      "<class 'pandas.core.frame.DataFrame'>\n",
      "RangeIndex: 100 entries, 0 to 99\n",
      "Data columns (total 2 columns):\n",
      " #   Column          Non-Null Count  Dtype  \n",
      "---  ------          --------------  -----  \n",
      " 0   Hours of Study  100 non-null    float64\n",
      " 1   Marks           100 non-null    float64\n",
      "dtypes: float64(2)\n",
      "memory usage: 1.7 KB\n"
     ]
    }
   ],
   "source": [
    "df.info()"
   ]
  },
  {
   "cell_type": "code",
   "execution_count": 6,
   "id": "a207a854",
   "metadata": {},
   "outputs": [
    {
     "data": {
      "text/plain": [
       "Hours of Study    0\n",
       "Marks             0\n",
       "dtype: int64"
      ]
     },
     "execution_count": 6,
     "metadata": {},
     "output_type": "execute_result"
    }
   ],
   "source": [
    "df.isnull().sum()"
   ]
  },
  {
   "cell_type": "code",
   "execution_count": 7,
   "id": "43228fe4",
   "metadata": {},
   "outputs": [],
   "source": [
    "df.rename(columns={'Hours of Study':'Hours'},inplace=True)"
   ]
  },
  {
   "cell_type": "code",
   "execution_count": 8,
   "id": "2a859d6c",
   "metadata": {},
   "outputs": [
    {
     "data": {
      "text/html": [
       "<div>\n",
       "<style scoped>\n",
       "    .dataframe tbody tr th:only-of-type {\n",
       "        vertical-align: middle;\n",
       "    }\n",
       "\n",
       "    .dataframe tbody tr th {\n",
       "        vertical-align: top;\n",
       "    }\n",
       "\n",
       "    .dataframe thead th {\n",
       "        text-align: right;\n",
       "    }\n",
       "</style>\n",
       "<table border=\"1\" class=\"dataframe\">\n",
       "  <thead>\n",
       "    <tr style=\"text-align: right;\">\n",
       "      <th></th>\n",
       "      <th>Hours</th>\n",
       "      <th>Marks</th>\n",
       "    </tr>\n",
       "  </thead>\n",
       "  <tbody>\n",
       "    <tr>\n",
       "      <th>0</th>\n",
       "      <td>32.502345</td>\n",
       "      <td>31.707006</td>\n",
       "    </tr>\n",
       "    <tr>\n",
       "      <th>1</th>\n",
       "      <td>53.426804</td>\n",
       "      <td>68.777596</td>\n",
       "    </tr>\n",
       "    <tr>\n",
       "      <th>2</th>\n",
       "      <td>61.530358</td>\n",
       "      <td>62.562382</td>\n",
       "    </tr>\n",
       "    <tr>\n",
       "      <th>3</th>\n",
       "      <td>47.475640</td>\n",
       "      <td>71.546632</td>\n",
       "    </tr>\n",
       "    <tr>\n",
       "      <th>4</th>\n",
       "      <td>59.813208</td>\n",
       "      <td>87.230925</td>\n",
       "    </tr>\n",
       "    <tr>\n",
       "      <th>...</th>\n",
       "      <td>...</td>\n",
       "      <td>...</td>\n",
       "    </tr>\n",
       "    <tr>\n",
       "      <th>95</th>\n",
       "      <td>50.030174</td>\n",
       "      <td>81.536991</td>\n",
       "    </tr>\n",
       "    <tr>\n",
       "      <th>96</th>\n",
       "      <td>49.239765</td>\n",
       "      <td>72.111832</td>\n",
       "    </tr>\n",
       "    <tr>\n",
       "      <th>97</th>\n",
       "      <td>50.039576</td>\n",
       "      <td>85.232007</td>\n",
       "    </tr>\n",
       "    <tr>\n",
       "      <th>98</th>\n",
       "      <td>48.149859</td>\n",
       "      <td>66.224958</td>\n",
       "    </tr>\n",
       "    <tr>\n",
       "      <th>99</th>\n",
       "      <td>25.128485</td>\n",
       "      <td>53.454394</td>\n",
       "    </tr>\n",
       "  </tbody>\n",
       "</table>\n",
       "<p>100 rows × 2 columns</p>\n",
       "</div>"
      ],
      "text/plain": [
       "        Hours      Marks\n",
       "0   32.502345  31.707006\n",
       "1   53.426804  68.777596\n",
       "2   61.530358  62.562382\n",
       "3   47.475640  71.546632\n",
       "4   59.813208  87.230925\n",
       "..        ...        ...\n",
       "95  50.030174  81.536991\n",
       "96  49.239765  72.111832\n",
       "97  50.039576  85.232007\n",
       "98  48.149859  66.224958\n",
       "99  25.128485  53.454394\n",
       "\n",
       "[100 rows x 2 columns]"
      ]
     },
     "execution_count": 8,
     "metadata": {},
     "output_type": "execute_result"
    }
   ],
   "source": [
    "df"
   ]
  },
  {
   "cell_type": "code",
   "execution_count": 9,
   "id": "dcd1aa89",
   "metadata": {},
   "outputs": [
    {
     "data": {
      "text/plain": [
       "Text(0, 0.5, 'Marks')"
      ]
     },
     "execution_count": 9,
     "metadata": {},
     "output_type": "execute_result"
    },
    {
     "data": {
      "image/png": "[encoded data removed]",
      "text/plain": [
       "<Figure size 432x288 with 1 Axes>"
      ]
     },
     "metadata": {
      "needs_background": "light"
     },
     "output_type": "display_data"
    }
   ],
   "source": [
    "plt.scatter(df.Hours, df.Marks)\n",
    "plt.xlabel('Hours')\n",
    "plt.ylabel('Marks')"
   ]
  },
  {
   "cell_type": "code",
   "execution_count": 10,
   "id": "0e7fe123",
   "metadata": {},
   "outputs": [
    {
     "data": {
      "text/plain": [
       "<AxesSubplot:>"
      ]
     },
     "execution_count": 10,
     "metadata": {},
     "output_type": "execute_result"
    },
    {
     "data": {
      "image/png": "[encoded data removed]",
      "text/plain": [
       "<Figure size 720x720 with 2 Axes>"
      ]
     },
     "metadata": {
      "needs_background": "light"
     },
     "output_type": "display_data"
    }
   ],
   "source": [
    "plt.figure(figsize=(10,10))\n",
    "sns.heatmap(df.corr(),annot=True)"
   ]
  },
  {
   "cell_type": "code",
   "execution_count": 11,
   "id": "958bd90d",
   "metadata": {},
   "outputs": [
    {
     "data": {
      "text/plain": [
       "[<matplotlib.lines.Line2D at 0x22bd2a5aa30>]"
      ]
     },
     "execution_count": 11,
     "metadata": {},
     "output_type": "execute_result"
    },
    {
     "data": {
      "image/png": "[encoded data removed]",
      "text/plain": [
       "<Figure size 432x288 with 1 Axes>"
      ]
     },
     "metadata": {
      "needs_background": "light"
     },
     "output_type": "display_data"
    }
   ],
   "source": [
    "plt.plot(df.Hours,df.Marks)"
   ]
  },
  {
   "cell_type": "markdown",
   "id": "4806d976",
   "metadata": {},
   "source": [
    "## Feature Scaling"
   ]
  },
  {
   "cell_type": "code",
   "execution_count": 12,
   "id": "819d42b4",
   "metadata": {},
   "outputs": [],
   "source": [
    "from sklearn.preprocessing import StandardScaler"
   ]
  },
  {
   "cell_type": "code",
   "execution_count": 13,
   "id": "fed254a6",
   "metadata": {},
   "outputs": [],
   "source": [
    "y=df.iloc[:,-1].values\n",
    "x=df.iloc[:,:-1].values"
   ]
  },
  {
   "cell_type": "code",
   "execution_count": 14,
   "id": "8e58fc88",
   "metadata": {},
   "outputs": [
    {
     "data": {
      "text/plain": [
       "array([31.70700585, 68.77759598, 62.5623823 , 71.54663223, 87.23092513,\n",
       "       78.21151827, 79.64197305, 59.17148932, 75.3312423 , 71.30087989,\n",
       "       55.16567715, 82.47884676, 62.00892325, 75.39287043, 81.43619216,\n",
       "       60.72360244, 82.89250373, 97.37989686, 48.84715332, 56.87721319,\n",
       "       83.87856466, 98.5912173 , 57.25181946, 51.39174408, 75.38065167,\n",
       "       74.76556403, 95.45505292, 95.22936602, 79.05240617, 83.43207142,\n",
       "       63.35879032, 41.4128853 , 76.61734128, 96.76956643, 74.08413012,\n",
       "       66.58814441, 77.76848242, 50.71958891, 62.12457082, 60.81024665,\n",
       "       52.68298337, 58.56982472, 82.90598149, 61.4247098 , 95.2441528 ,\n",
       "       45.57058882, 54.0840548 , 87.99445276, 52.72549438, 93.57611869,\n",
       "       80.16627545, 65.10171157, 65.56230126, 65.28088692, 73.43464155,\n",
       "       71.13972786, 79.10282968, 86.52053844, 84.74269781, 59.35885025,\n",
       "       61.68403752, 69.84760416, 86.09829121, 59.10883927, 69.89968164,\n",
       "       44.86249071, 85.49806778, 95.53668685, 70.25193442, 52.72173496,\n",
       "       50.39267014, 63.64239878, 72.24725107, 57.81251298, 94.25710159,\n",
       "       86.64202032, 91.486778  , 55.23166089, 79.55043668, 44.84712424,\n",
       "       80.20752314, 83.14274979, 55.72348926, 77.63418251, 99.05141484,\n",
       "       79.12064627, 69.58889785, 69.51050331, 73.68756432, 61.36690454,\n",
       "       67.17065577, 85.66820315, 94.85387123, 90.12357207, 97.91982104,\n",
       "       81.53699078, 72.11183247, 85.23200734, 66.22495789, 53.45439421])"
      ]
     },
     "execution_count": 14,
     "metadata": {},
     "output_type": "execute_result"
    }
   ],
   "source": [
    "y"
   ]
  },
  {
   "cell_type": "code",
   "execution_count": 15,
   "id": "6401a8cc",
   "metadata": {},
   "outputs": [],
   "source": [
    "stanscale=StandardScaler()"
   ]
  },
  {
   "cell_type": "code",
   "execution_count": 16,
   "id": "e24645da",
   "metadata": {},
   "outputs": [],
   "source": [
    "x=stanscale.fit_transform(x.reshape(-1,1))\n",
    "y=stanscale.fit_transform(y.reshape(-1,1))"
   ]
  },
  {
   "cell_type": "code",
   "execution_count": 17,
   "id": "357cad5f",
   "metadata": {},
   "outputs": [
    {
     "data": {
      "text/plain": [
       "array([[-1.69692744e+00],\n",
       "       [ 4.60783817e-01],\n",
       "       [ 1.29641497e+00],\n",
       "       [-1.52894871e-01],\n",
       "       [ 1.11934400e+00],\n",
       "       [ 6.37672702e-01],\n",
       "       [ 3.35493359e-01],\n",
       "       [-9.96004115e-01],\n",
       "       [-8.79915004e-02],\n",
       "       [ 3.70370068e-01],\n",
       "       [-3.64898398e-01],\n",
       "       [ 5.56151537e-01],\n",
       "       [-4.94383049e-01],\n",
       "       [ 9.49740196e-01],\n",
       "       [ 8.01118494e-01],\n",
       "       [-2.52939962e-04],\n",
       "       [-4.40436632e-01],\n",
       "       [ 1.16926591e+00],\n",
       "       [-3.44386604e-01],\n",
       "       [-1.04578477e+00],\n",
       "       [ 1.77689413e+00],\n",
       "       [ 1.69710419e+00],\n",
       "       [-1.52320603e-01],\n",
       "       [-7.61297225e-01],\n",
       "       [ 2.97688891e-01],\n",
       "       [ 1.07372557e+00],\n",
       "       [ 8.61215827e-01],\n",
       "       [ 1.51143924e+00],\n",
       "       [-2.28998849e-01],\n",
       "       [ 1.64827489e-01],\n",
       "       [ 3.36751351e-01],\n",
       "       [-1.38081742e+00],\n",
       "       [-6.72528769e-01],\n",
       "       [ 9.49334875e-01],\n",
       "       [ 8.81266735e-01],\n",
       "       [-3.62753460e-01],\n",
       "       [ 1.33414261e+00],\n",
       "       [-1.63593389e+00],\n",
       "       [-1.29129154e+00],\n",
       "       [-1.16346043e+00],\n",
       "       [-4.54005852e-01],\n",
       "       [-5.81597764e-01],\n",
       "       [ 1.14957597e-01],\n",
       "       [-5.24641992e-01],\n",
       "       [ 1.44770334e+00],\n",
       "       [-1.67973764e+00],\n",
       "       [-9.06565591e-01],\n",
       "       [ 4.76073646e-01],\n",
       "       [-1.55649267e+00],\n",
       "       [ 1.62400172e+00],\n",
       "       [-1.11765811e+00],\n",
       "       [-4.59478415e-01],\n",
       "       [-8.61952211e-01],\n",
       "       [-7.46341477e-01],\n",
       "       [ 2.19673909e-01],\n",
       "       [ 6.31063541e-01],\n",
       "       [-7.81706153e-01],\n",
       "       [ 1.39585678e+00],\n",
       "       [ 2.53204894e-02],\n",
       "       [-8.10068167e-01],\n",
       "       [-8.01887634e-01],\n",
       "       [ 1.26635202e-01],\n",
       "       [ 3.52678108e-01],\n",
       "       [ 1.21386027e-01],\n",
       "       [-1.57912823e+00],\n",
       "       [-9.69364892e-01],\n",
       "       [ 7.39575034e-01],\n",
       "       [ 8.66583041e-01],\n",
       "       [ 1.16636698e+00],\n",
       "       [-1.36944711e+00],\n",
       "       [-1.79120183e+00],\n",
       "       [ 4.84926908e-01],\n",
       "       [-2.34710694e-01],\n",
       "       [-6.03300457e-01],\n",
       "       [ 2.20548379e+00],\n",
       "       [-4.60476833e-01],\n",
       "       [ 8.81275570e-01],\n",
       "       [-1.24034379e+00],\n",
       "       [ 7.06096857e-01],\n",
       "       [-1.03155933e+00],\n",
       "       [ 8.19061902e-01],\n",
       "       [ 8.15729707e-01],\n",
       "       [-1.50813912e+00],\n",
       "       [ 1.04061601e+00],\n",
       "       [ 9.10529497e-01],\n",
       "       [ 5.49004748e-01],\n",
       "       [ 2.19682697e-01],\n",
       "       [ 1.36580714e-01],\n",
       "       [-4.89465068e-01],\n",
       "       [-1.12944834e+00],\n",
       "       [-1.65174739e+00],\n",
       "       [ 4.88093418e-01],\n",
       "       [ 2.04252042e+00],\n",
       "       [-2.81244438e-01],\n",
       "       [ 1.99649080e+00],\n",
       "       [ 1.10526437e-01],\n",
       "       [ 2.90201757e-02],\n",
       "       [ 1.11495921e-01],\n",
       "       [-8.33699913e-02],\n",
       "       [-2.45731327e+00]])"
      ]
     },
     "execution_count": 17,
     "metadata": {},
     "output_type": "execute_result"
    }
   ],
   "source": [
    "x"
   ]
  },
  {
   "cell_type": "code",
   "execution_count": 18,
   "id": "cfc80912",
   "metadata": {},
   "outputs": [
    {
     "data": {
      "text/plain": [
       "array([[-2.66651176],\n",
       "       [-0.21538463],\n",
       "       [-0.62633786],\n",
       "       [-0.03229448],\n",
       "       [ 1.00475931],\n",
       "       [ 0.40839133],\n",
       "       [ 0.50297376],\n",
       "       [-0.85054551],\n",
       "       [ 0.21794595],\n",
       "       [-0.04854375],\n",
       "       [-1.11541194],\n",
       "       [ 0.69054936],\n",
       "       [-0.66293287],\n",
       "       [ 0.22202084],\n",
       "       [ 0.62160848],\n",
       "       [-0.74791896],\n",
       "       [ 0.71790058],\n",
       "       [ 1.67581471],\n",
       "       [-1.5331961 ],\n",
       "       [-1.00224427],\n",
       "       [ 0.78309945],\n",
       "       [ 1.75590787],\n",
       "       [-0.9774751 ],\n",
       "       [-1.3649464 ],\n",
       "       [ 0.22121292],\n",
       "       [ 0.180543  ],\n",
       "       [ 1.54854301],\n",
       "       [ 1.53362047],\n",
       "       [ 0.46399128],\n",
       "       [ 0.75357708],\n",
       "       [-0.57367894],\n",
       "       [-2.02475385],\n",
       "       [ 0.3029835 ],\n",
       "       [ 1.63545934],\n",
       "       [ 0.13548623],\n",
       "       [-0.36015233],\n",
       "       [ 0.37909756],\n",
       "       [-1.40938966],\n",
       "       [-0.65528619],\n",
       "       [-0.74219   ],\n",
       "       [-1.27956897],\n",
       "       [-0.89032789],\n",
       "       [ 0.71879173],\n",
       "       [-0.70156137],\n",
       "       [ 1.53459818],\n",
       "       [-1.74984428],\n",
       "       [-1.18692938],\n",
       "       [ 1.05524416],\n",
       "       [-1.27675812],\n",
       "       [ 1.42430688],\n",
       "       [ 0.53764091],\n",
       "       [-0.45843606],\n",
       "       [-0.42798163],\n",
       "       [-0.44658889],\n",
       "       [ 0.0925417 ],\n",
       "       [-0.05919921],\n",
       "       [ 0.46732531],\n",
       "       [ 0.95778816],\n",
       "       [ 0.84023639],\n",
       "       [-0.8381571 ],\n",
       "       [-0.68441449],\n",
       "       [-0.14463512],\n",
       "       [ 0.92986895],\n",
       "       [-0.85468796],\n",
       "       [-0.14119173],\n",
       "       [-1.79666411],\n",
       "       [ 0.89018186],\n",
       "       [ 1.55394069],\n",
       "       [-0.11790059],\n",
       "       [-1.2770067 ],\n",
       "       [-1.4310057 ],\n",
       "       [-0.5549266 ],\n",
       "       [ 0.01403081],\n",
       "       [-0.94040175],\n",
       "       [ 1.46933383],\n",
       "       [ 0.96582061],\n",
       "       [ 1.28615856],\n",
       "       [-1.11104906],\n",
       "       [ 0.49692133],\n",
       "       [-1.79768014],\n",
       "       [ 0.54036823],\n",
       "       [ 0.73444698],\n",
       "       [-1.07852911],\n",
       "       [ 0.37021758],\n",
       "       [ 1.78633637],\n",
       "       [ 0.46850336],\n",
       "       [-0.16174092],\n",
       "       [-0.16692441],\n",
       "       [ 0.10926509],\n",
       "       [-0.70538349],\n",
       "       [-0.32163637],\n",
       "       [ 0.9014313 ],\n",
       "       [ 1.50879256],\n",
       "       [ 1.19602266],\n",
       "       [ 1.71151479],\n",
       "       [ 0.62827334],\n",
       "       [ 0.00507686],\n",
       "       [ 0.8725898 ],\n",
       "       [-0.38416642],\n",
       "       [-1.22856288]])"
      ]
     },
     "execution_count": 18,
     "metadata": {},
     "output_type": "execute_result"
    }
   ],
   "source": [
    "y"
   ]
  },
  {
   "cell_type": "code",
   "execution_count": 19,
   "id": "e26eaf47",
   "metadata": {},
   "outputs": [],
   "source": [
    "x_train,x_test,y_train,y_test=train_test_split(x,y,test_size=0.2,random_state=8)"
   ]
  },
  {
   "cell_type": "code",
   "execution_count": 20,
   "id": "c87f1d4c",
   "metadata": {},
   "outputs": [
    {
     "data": {
      "text/plain": [
       "(80, 1)"
      ]
     },
     "execution_count": 20,
     "metadata": {},
     "output_type": "execute_result"
    }
   ],
   "source": [
    "x_train.shape"
   ]
  },
  {
   "cell_type": "code",
   "execution_count": 21,
   "id": "e7ee001a",
   "metadata": {},
   "outputs": [],
   "source": [
    "model=SVR(kernel='rbf')"
   ]
  },
  {
   "cell_type": "code",
   "execution_count": 22,
   "id": "7bb3aab5",
   "metadata": {},
   "outputs": [
    {
     "name": "stderr",
     "output_type": "stream",
     "text": [
      "C:\\Users\\Ashwin\\AppData\\Roaming\\Python\\Python38\\site-packages\\sklearn\\utils\\validation.py:1111: DataConversionWarning: A column-vector y was passed when a 1d array was expected. Please change the shape of y to (n_samples, ), for example using ravel().\n",
      "  y = column_or_1d(y, warn=True)\n"
     ]
    },
    {
     "data": {
      "text/html": [
       "<style>#sk-container-id-1 {color: black;background-color: white;}#sk-container-id-1 pre{padding: 0;}#sk-container-id-1 div.sk-toggleable {background-color: white;}#sk-container-id-1 label.sk-toggleable__label {cursor: pointer;display: block;width: 100%;margin-bottom: 0;padding: 0.3em;box-sizing: border-box;text-align: center;}#sk-container-id-1 label.sk-toggleable__label-arrow:before {content: \"▸\";float: left;margin-right: 0.25em;color: #696969;}#sk-container-id-1 label.sk-toggleable__label-arrow:hover:before {color: black;}#sk-container-id-1 div.sk-estimator:hover label.sk-toggleable__label-arrow:before {color: black;}#sk-container-id-1 div.sk-toggleable__content {max-height: 0;max-width: 0;overflow: hidden;text-align: left;background-color: #f0f8ff;}#sk-container-id-1 div.sk-toggleable__content pre {margin: 0.2em;color: black;border-radius: 0.25em;background-color: #f0f8ff;}#sk-container-id-1 input.sk-toggleable__control:checked~div.sk-toggleable__content {max-height: 200px;max-width: 100%;overflow: auto;}#sk-container-id-1 input.sk-toggleable__control:checked~label.sk-toggleable__label-arrow:before {content: \"▾\";}#sk-container-id-1 div.sk-estimator input.sk-toggleable__control:checked~label.sk-toggleable__label {background-color: #d4ebff;}#sk-container-id-1 div.sk-label input.sk-toggleable__control:checked~label.sk-toggleable__label {background-color: #d4ebff;}#sk-container-id-1 input.sk-hidden--visually {border: 0;clip: rect(1px 1px 1px 1px);clip: rect(1px, 1px, 1px, 1px);height: 1px;margin: -1px;overflow: hidden;padding: 0;position: absolute;width: 1px;}#sk-container-id-1 div.sk-estimator {font-family: monospace;background-color: #f0f8ff;border: 1px dotted black;border-radius: 0.25em;box-sizing: border-box;margin-bottom: 0.5em;}#sk-container-id-1 div.sk-estimator:hover {background-color: #d4ebff;}#sk-container-id-1 div.sk-parallel-item::after {content: \"\";width: 100%;border-bottom: 1px solid gray;flex-grow: 1;}#sk-container-id-1 div.sk-label:hover label.sk-toggleable__label {background-color: #d4ebff;}#sk-container-id-1 div.sk-serial::before {content: \"\";position: absolute;border-left: 1px solid gray;box-sizing: border-box;top: 0;bottom: 0;left: 50%;z-index: 0;}#sk-container-id-1 div.sk-serial {display: flex;flex-direction: column;align-items: center;background-color: white;padding-right: 0.2em;padding-left: 0.2em;position: relative;}#sk-container-id-1 div.sk-item {position: relative;z-index: 1;}#sk-container-id-1 div.sk-parallel {display: flex;align-items: stretch;justify-content: center;background-color: white;position: relative;}#sk-container-id-1 div.sk-item::before, #sk-container-id-1 div.sk-parallel-item::before {content: \"\";position: absolute;border-left: 1px solid gray;box-sizing: border-box;top: 0;bottom: 0;left: 50%;z-index: -1;}#sk-container-id-1 div.sk-parallel-item {display: flex;flex-direction: column;z-index: 1;position: relative;background-color: white;}#sk-container-id-1 div.sk-parallel-item:first-child::after {align-self: flex-end;width: 50%;}#sk-container-id-1 div.sk-parallel-item:last-child::after {align-self: flex-start;width: 50%;}#sk-container-id-1 div.sk-parallel-item:only-child::after {width: 0;}#sk-container-id-1 div.sk-dashed-wrapped {border: 1px dashed gray;margin: 0 0.4em 0.5em 0.4em;box-sizing: border-box;padding-bottom: 0.4em;background-color: white;}#sk-container-id-1 div.sk-label label {font-family: monospace;font-weight: bold;display: inline-block;line-height: 1.2em;}#sk-container-id-1 div.sk-label-container {text-align: center;}#sk-container-id-1 div.sk-container {/* jupyter's `normalize.less` sets `[hidden] { display: none; }` but bootstrap.min.css set `[hidden] { display: none !important; }` so we also need the `!important` here to be able to override the default hidden behavior on the sphinx rendered scikit-learn.org. See: https://github.com/scikit-learn/scikit-learn/issues/21755 */display: inline-block !important;position: relative;}#sk-container-id-1 div.sk-text-repr-fallback {display: none;}</style><div id=\"sk-container-id-1\" class=\"sk-top-container\"><div class=\"sk-text-repr-fallback\"><pre>SVR()</pre><b>In a Jupyter environment, please rerun this cell to show the HTML representation or trust the notebook. <br />On GitHub, the HTML representation is unable to render, please try loading this page with nbviewer.org.</b></div><div class=\"sk-container\" hidden><div class=\"sk-item\"><div class=\"sk-estimator sk-toggleable\"><input class=\"sk-toggleable__control sk-hidden--visually\" id=\"sk-estimator-id-1\" type=\"checkbox\" checked><label for=\"sk-estimator-id-1\" class=\"sk-toggleable__label sk-toggleable__label-arrow\">SVR</label><div class=\"sk-toggleable__content\"><pre>SVR()</pre></div></div></div></div></div>"
      ],
      "text/plain": [
       "SVR()"
      ]
     },
     "execution_count": 22,
     "metadata": {},
     "output_type": "execute_result"
    }
   ],
   "source": [
    "model.fit(x_train,y_train)"
   ]
  },
  {
   "cell_type": "code",
   "execution_count": 23,
   "id": "76079b9d",
   "metadata": {},
   "outputs": [],
   "source": [
    "y_pred=model.predict(x_test)"
   ]
  },
  {
   "cell_type": "code",
   "execution_count": 24,
   "id": "915e09d9",
   "metadata": {},
   "outputs": [
    {
     "data": {
      "text/plain": [
       "array([ 0.8782171 , -0.58269046,  0.3837441 ,  1.10063278,  0.50841755,\n",
       "       -0.84818315,  0.19266388,  0.14814554,  0.29960171,  0.72270062,\n",
       "       -0.04943399, -0.3599459 ,  0.4548301 , -0.97356638, -0.10273767,\n",
       "       -0.42902296,  0.1049606 ,  0.28694605, -0.16441721, -0.3835806 ])"
      ]
     },
     "execution_count": 24,
     "metadata": {},
     "output_type": "execute_result"
    }
   ],
   "source": [
    "y_pred"
   ]
  },
  {
   "cell_type": "code",
   "execution_count": 25,
   "id": "1e62bd63",
   "metadata": {},
   "outputs": [
    {
     "data": {
      "text/plain": [
       "array([[ 1.67581471],\n",
       "       [-1.3649464 ],\n",
       "       [-0.21538463],\n",
       "       [ 1.53459818],\n",
       "       [-0.05919921],\n",
       "       [-1.22856288],\n",
       "       [-0.16174092],\n",
       "       [ 0.75357708],\n",
       "       [ 0.92986895],\n",
       "       [ 1.63545934],\n",
       "       [-0.38416642],\n",
       "       [-0.66293287],\n",
       "       [ 0.69054936],\n",
       "       [-0.74219   ],\n",
       "       [-0.03229448],\n",
       "       [-0.89032789],\n",
       "       [ 0.8725898 ],\n",
       "       [-0.57367894],\n",
       "       [ 0.01403081],\n",
       "       [-0.70156137]])"
      ]
     },
     "execution_count": 25,
     "metadata": {},
     "output_type": "execute_result"
    }
   ],
   "source": [
    "y_test"
   ]
  },
  {
   "cell_type": "code",
   "execution_count": 26,
   "id": "eb505b7a",
   "metadata": {},
   "outputs": [],
   "source": [
    "y_test=stanscale.inverse_transform(y_test)"
   ]
  },
  {
   "cell_type": "code",
   "execution_count": 27,
   "id": "61434571",
   "metadata": {},
   "outputs": [
    {
     "data": {
      "text/plain": [
       "array([[97.37989686],\n",
       "       [51.39174408],\n",
       "       [68.77759598],\n",
       "       [95.2441528 ],\n",
       "       [71.13972786],\n",
       "       [53.45439421],\n",
       "       [69.58889785],\n",
       "       [83.43207142],\n",
       "       [86.09829121],\n",
       "       [96.76956643],\n",
       "       [66.22495789],\n",
       "       [62.00892325],\n",
       "       [82.47884676],\n",
       "       [60.81024665],\n",
       "       [71.54663223],\n",
       "       [58.56982472],\n",
       "       [85.23200734],\n",
       "       [63.35879032],\n",
       "       [72.24725107],\n",
       "       [61.4247098 ]])"
      ]
     },
     "execution_count": 27,
     "metadata": {},
     "output_type": "execute_result"
    }
   ],
   "source": [
    "y_test"
   ]
  },
  {
   "cell_type": "code",
   "execution_count": 28,
   "id": "3498bdd5",
   "metadata": {},
   "outputs": [],
   "source": [
    "y_pred=stanscale.inverse_transform(y_pred.reshape(-1,1))"
   ]
  },
  {
   "cell_type": "code",
   "execution_count": 29,
   "id": "5af26b92",
   "metadata": {},
   "outputs": [
    {
     "data": {
      "text/plain": [
       "array([[85.31711397],\n",
       "       [63.22250097],\n",
       "       [77.83875616],\n",
       "       [88.68090551],\n",
       "       [79.7243043 ],\n",
       "       [59.20721733],\n",
       "       [74.94887896],\n",
       "       [74.27558813],\n",
       "       [76.56619542],\n",
       "       [82.9650991 ],\n",
       "       [71.28741613],\n",
       "       [66.59126642],\n",
       "       [78.91385336],\n",
       "       [57.31093453],\n",
       "       [70.48125672],\n",
       "       [65.54655221],\n",
       "       [73.62246367],\n",
       "       [76.37479252],\n",
       "       [69.54842183],\n",
       "       [66.23381766]])"
      ]
     },
     "execution_count": 29,
     "metadata": {},
     "output_type": "execute_result"
    }
   ],
   "source": [
    "y_pred"
   ]
  },
  {
   "cell_type": "code",
   "execution_count": 30,
   "id": "74fbfdec",
   "metadata": {},
   "outputs": [
    {
     "data": {
      "text/plain": [
       "<matplotlib.collections.PathCollection at 0x22bd28e12e0>"
      ]
     },
     "execution_count": 30,
     "metadata": {},
     "output_type": "execute_result"
    },
    {
     "data": {
      "image/png": "[encoded data removed]",
      "text/plain": [
       "<Figure size 432x288 with 1 Axes>"
      ]
     },
     "metadata": {
      "needs_background": "light"
     },
     "output_type": "display_data"
    }
   ],
   "source": [
    "plt.scatter(y_test,y_pred)"
   ]
  },
  {
   "cell_type": "code",
   "execution_count": 31,
   "id": "ac191a51",
   "metadata": {},
   "outputs": [
    {
     "data": {
      "text/plain": [
       "array([[72.96442809]])"
      ]
     },
     "execution_count": 31,
     "metadata": {},
     "output_type": "execute_result"
    }
   ],
   "source": [
    "stanscale.inverse_transform(model.predict([[5]]).reshape(-1,1))"
   ]
  },
  {
   "cell_type": "code",
   "execution_count": 32,
   "id": "e50a232e",
   "metadata": {},
   "outputs": [
    {
     "data": {
      "text/plain": [
       "array([[72.9602617]])"
      ]
     },
     "execution_count": 32,
     "metadata": {},
     "output_type": "execute_result"
    }
   ],
   "source": [
    "stanscale.inverse_transform(model.predict([[10]]).reshape(-1,1))"
   ]
  },
  {
   "cell_type": "code",
   "execution_count": 33,
   "id": "996d1500",
   "metadata": {},
   "outputs": [
    {
     "data": {
      "text/plain": [
       "array([[72.9602617]])"
      ]
     },
     "execution_count": 33,
     "metadata": {},
     "output_type": "execute_result"
    }
   ],
   "source": [
    "stanscale.inverse_transform(model.predict([[12]]).reshape(-1,1))"
   ]
  },
  {
   "cell_type": "code",
   "execution_count": 34,
   "id": "e0fd7d19",
   "metadata": {},
   "outputs": [
    {
     "data": {
      "text/plain": [
       "array([[72.9602617]])"
      ]
     },
     "execution_count": 34,
     "metadata": {},
     "output_type": "execute_result"
    }
   ],
   "source": [
    "stanscale.inverse_transform(model.predict([[14]]).reshape(-1,1))"
   ]
  },
  {
   "cell_type": "code",
   "execution_count": 35,
   "id": "471ed5bc",
   "metadata": {},
   "outputs": [
    {
     "data": {
      "text/plain": [
       "array([[81.0895205]])"
      ]
     },
     "execution_count": 35,
     "metadata": {},
     "output_type": "execute_result"
    }
   ],
   "source": [
    "stanscale.inverse_transform(model.predict([[3]]).reshape(-1,1))"
   ]
  },
  {
   "cell_type": "code",
   "execution_count": 36,
   "id": "d01f0a70",
   "metadata": {},
   "outputs": [
    {
     "data": {
      "text/plain": [
       "0.6409645813712227"
      ]
     },
     "execution_count": 36,
     "metadata": {},
     "output_type": "execute_result"
    }
   ],
   "source": [
    "r2_score(y_test,y_pred)"
   ]
  },
  {
   "cell_type": "code",
   "execution_count": 37,
   "id": "f6e64a10",
   "metadata": {},
   "outputs": [
    {
     "data": {
      "text/plain": [
       "68.37212697966153"
      ]
     },
     "execution_count": 37,
     "metadata": {},
     "output_type": "execute_result"
    }
   ],
   "source": [
    "mean_squared_error(y_test,y_pred)"
   ]
  },
  {
   "cell_type": "code",
   "execution_count": 38,
   "id": "bae01824",
   "metadata": {},
   "outputs": [
    {
     "data": {
      "text/plain": [
       "7.429653362584466"
      ]
     },
     "execution_count": 38,
     "metadata": {},
     "output_type": "execute_result"
    }
   ],
   "source": [
    "mean_absolute_error(y_test,y_pred)"
   ]
  }
 ],
 "metadata": {
  "kernelspec": {
   "display_name": "Python 3 (ipykernel)",
   "language": "python",
   "name": "python3"
  },
  "language_info": {
   "codemirror_mode": {
    "name": "ipython",
    "version": 3
   },
   "file_extension": ".py",
   "mimetype": "text/x-python",
   "name": "python",
   "nbconvert_exporter": "python",
   "pygments_lexer": "ipython3",
   "version": "3.8.8"
  }
 },
 "nbformat": 4,
 "nbformat_minor": 5
}
